{
 "cells": [
  {
   "cell_type": "code",
   "execution_count": 15,
   "metadata": {
    "collapsed": false
   },
   "outputs": [
    {
     "data": {
      "text/plain": [
       "\u001b[32mimport \u001b[36mjava.io.File\u001b[0m\n",
       "defined \u001b[32mclass \u001b[36mBizagiClass\u001b[0m\n",
       "defined \u001b[32mfunction \u001b[36mallJavaFiles\u001b[0m"
      ]
     },
     "metadata": {},
     "output_type": "display_data"
    }
   ],
   "source": [
    "import java.io.File\n",
    "\n",
    "case class BizagiClass(name: String, file: List[String])\n",
    "\n",
    "def allJavaFiles(file: File): Stream[File] = {\n",
    "   file.listFiles()\n",
    "     .toStream\n",
    "     .filter(f => f.isDirectory || f.getName.endsWith(\".java\"))\n",
    "     .flatMap(f => if (f.isDirectory) allJavaFiles(f) else List(f))\n",
    "}"
   ]
  },
  {
   "cell_type": "code",
   "execution_count": 16,
   "metadata": {
    "collapsed": false
   },
   "outputs": [
    {
     "data": {
      "text/plain": [
       "\u001b[36mres15\u001b[0m: \u001b[32mString\u001b[0m = \u001b[32m\"Files with wrong persistence unit definition: [OrgFacadeBean.java, LicenseManagerBean.java, BaseEntityManagerBean.java, VirtualEntityManagerFacadeBean.java]\"\u001b[0m"
      ]
     },
     "metadata": {},
     "output_type": "display_data"
    }
   ],
   "source": [
    "allJavaFiles(new File(\"/Users/dev-williame/dev/bizagi-jee/biz/BizAgi.WebApp\"))\n",
    "  .map(f => BizagiClass(f.getName, scala.io.Source.fromFile(f).getLines().toList))\n",
    "  .filter(b => b.file.exists(_.contains(\"persistence/BizAgi.RenderPU\")))\n",
    "  .map(l => (l.name, l.file.find(_.contains(\"@PersistenceContext(name = \\\"persistence/BizAgi.RenderPU\\\", unitName = \\\"BizAgi.RenderPU\\\")\")),\n",
    "    l.file.find(_.contains(\"unitName = \\\"BizAgi.EntitiesPU\\\"\"))))\n",
    "  .filter(v => v._2.isInstanceOf[Some[String]] && v._3.isInstanceOf[Some[String]])\n",
    "  .map(_._1)\n",
    "  .toList.mkString(\"Files with wrong persistence unit definition: [\", \", \", \"]\")"
   ]
  },
  {
   "cell_type": "code",
   "execution_count": null,
   "metadata": {
    "collapsed": true
   },
   "outputs": [],
   "source": []
  }
 ],
 "metadata": {
  "kernelspec": {
   "display_name": "Scala 2.11",
   "language": "scala211",
   "name": "scala211"
  },
  "language_info": {
   "codemirror_mode": "text/x-scala",
   "file_extension": ".scala",
   "mimetype": "text/x-scala",
   "name": "scala211",
   "pygments_lexer": "scala",
   "version": "2.11.8"
  }
 },
 "nbformat": 4,
 "nbformat_minor": 1
}
